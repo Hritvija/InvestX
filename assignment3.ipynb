{
  "nbformat": 4,
  "nbformat_minor": 0,
  "metadata": {
    "colab": {
      "provenance": []
    },
    "kernelspec": {
      "name": "python3",
      "display_name": "Python 3"
    },
    "language_info": {
      "name": "python"
    },
    "gpuClass": "standard"
  },
  "cells": [
    {
      "cell_type": "code",
      "execution_count": null,
      "metadata": {
        "id": "F3NmyDkdaw3f"
      },
      "outputs": [],
      "source": [
        "import numpy as np\n",
        "from tensorflow.keras.models import Sequential\n",
        "from tensorflow.keras.layers import LSTM\n",
        "from tensorflow.keras.layers import Dense, Dropout\n",
        "import pandas as pd\n",
        "import yfinance as yf\n",
        "from matplotlib import pyplot as plt\n",
        "from sklearn.preprocessing import StandardScaler\n",
        "import seaborn as sns\n",
        "import math \n",
        "#from datetime import datetime"
      ]
    },
    {
      "cell_type": "code",
      "source": [
        "df = pd.read_csv('Train.csv')\n",
        "print(df.head())\n",
        "df=df.head(300)\n",
        "# df = yf.download(\"^NSEBANK\", start=\"2023-01-01\", end=\"2023-05-01\")\n",
        "# df\n"
      ],
      "metadata": {
        "colab": {
          "base_uri": "https://localhost:8080/"
        },
        "id": "9aH7bA5fdNV8",
        "outputId": "d12422bf-42df-4321-a084-55904d24a62f"
      },
      "execution_count": null,
      "outputs": [
        {
          "output_type": "stream",
          "name": "stdout",
          "text": [
            "         Date    Stock  liabilities      equity  total_assets  current_assets  \\\n",
            "0  2006-07-31  Stock 1   625.898686  925.086518   1550.985204      675.789905   \n",
            "1  2006-08-31  Stock 1   407.387467  903.249093   1310.636561     1023.110983   \n",
            "2  2006-09-29  Stock 1   464.069891  602.668832   1066.738722      709.711673   \n",
            "3  2006-10-31  Stock 1   855.854937  391.375369   1247.230306      649.979564   \n",
            "4  2006-11-30  Stock 1   453.954969  956.490566   1410.445534     1115.594551   \n",
            "\n",
            "   current_liabilities  total_revenue  net_income   dividend  \\\n",
            "0           555.931329     548.488451  251.282553  68.184030   \n",
            "1          1295.186240     513.446432  207.576940  42.232672   \n",
            "2           598.719338     503.519871  133.719700  28.835722   \n",
            "3           733.594339     596.006397  -76.881818   0.000000   \n",
            "4          1152.274711     965.939247 -309.204301   0.000000   \n",
            "\n",
            "   shares_outstanding       price  \n",
            "0             1040831  100.000000  \n",
            "1             1046649  101.924169  \n",
            "2             1094158  103.166191  \n",
            "3             1018574  104.478956  \n",
            "4             1036293  104.160907  \n"
          ]
        }
      ]
    },
    {
      "cell_type": "code",
      "source": [
        "# df['MACD_line']= (df.price.ewm(span=).mean() - df.price.ewm(span =1).mea \n",
        "# df\n",
        "# Using MACD indicator as the only parameter we have in this data was price\n",
        "df['EMA_10'] = df['price'].ewm(span=10, adjust=False).mean()\n",
        "df['EMA_24'] = df['price'].ewm(span=24, adjust=False).mean()\n",
        "df['MACD'] = df['EMA_10'] - df['EMA_24']\n",
        "df['Signal_Line'] = df['MACD'].ewm(span=9, adjust=False).mean()\n",
        "df\n",
        "\n"
      ],
      "metadata": {
        "colab": {
          "base_uri": "https://localhost:8080/",
          "height": 661
        },
        "id": "UsE8HGrmOw9j",
        "outputId": "59485917-36f7-4c2a-bf35-cd150353024a"
      },
      "execution_count": null,
      "outputs": [
        {
          "output_type": "execute_result",
          "data": {
            "text/plain": [
              "           Date    Stock  liabilities      equity  total_assets  \\\n",
              "0    2006-07-31  Stock 1   625.898686  925.086518   1550.985204   \n",
              "1    2006-08-31  Stock 1   407.387467  903.249093   1310.636561   \n",
              "2    2006-09-29  Stock 1   464.069891  602.668832   1066.738722   \n",
              "3    2006-10-31  Stock 1   855.854937  391.375369   1247.230306   \n",
              "4    2006-11-30  Stock 1   453.954969  956.490566   1410.445534   \n",
              "..          ...      ...          ...         ...           ...   \n",
              "295  2018-08-31  Stock 2   722.917095  594.617882   1317.534976   \n",
              "296  2018-09-28  Stock 2   891.783838  753.913806   1645.697644   \n",
              "297  2018-10-31  Stock 2   620.591470  838.042518   1458.633987   \n",
              "298  2018-11-30  Stock 2   729.233328  739.226300   1468.459628   \n",
              "299  2018-12-31  Stock 2   795.486899  209.046246   1004.533145   \n",
              "\n",
              "     current_assets  current_liabilities  total_revenue  net_income  \\\n",
              "0        675.789905           555.931329     548.488451  251.282553   \n",
              "1       1023.110983          1295.186240     513.446432  207.576940   \n",
              "2        709.711673           598.719338     503.519871  133.719700   \n",
              "3        649.979564           733.594339     596.006397  -76.881818   \n",
              "4       1115.594551          1152.274711     965.939247 -309.204301   \n",
              "..              ...                  ...            ...         ...   \n",
              "295      903.806857           998.807333     171.240116  -64.613099   \n",
              "296      501.563160           475.549272     495.507514   -6.167311   \n",
              "297      518.604852           423.817563     821.772578   69.788083   \n",
              "298      809.035407           757.767057     149.754965   36.089098   \n",
              "299      623.772672           647.202488     178.687823   13.356626   \n",
              "\n",
              "      dividend  shares_outstanding       price      EMA_10      EMA_24  \\\n",
              "0    68.184030             1040831  100.000000  100.000000  100.000000   \n",
              "1    42.232672             1046649  101.924169  100.349849  100.153934   \n",
              "2    28.835722             1094158  103.166191  100.861911  100.394914   \n",
              "3     0.000000             1018574  104.478956  101.519556  100.721638   \n",
              "4     0.000000             1036293  104.160907  101.999801  100.996779   \n",
              "..         ...                 ...         ...         ...         ...   \n",
              "295   0.000000             1049611   88.802113   91.694941   94.879842   \n",
              "296   0.000000             1001398   88.018930   91.026575   94.330969   \n",
              "297  16.171886             1030467   87.617812   90.406800   93.793917   \n",
              "298  10.609074             1094560   88.135261   89.993793   93.341224   \n",
              "299   3.990298             1032920   88.942826   89.802708   92.989352   \n",
              "\n",
              "         MACD  Signal_Line  \n",
              "0    0.000000     0.000000  \n",
              "1    0.195915     0.039183  \n",
              "2    0.466997     0.124746  \n",
              "3    0.797918     0.259380  \n",
              "4    1.003022     0.408109  \n",
              "..        ...          ...  \n",
              "295 -3.184902    -2.629405  \n",
              "296 -3.304394    -2.764403  \n",
              "297 -3.387117    -2.888946  \n",
              "298 -3.347431    -2.980643  \n",
              "299 -3.186644    -3.021843  \n",
              "\n",
              "[300 rows x 16 columns]"
            ],
            "text/html": [
              "\n",
              "  <div id=\"df-0d930127-d75e-4bcd-bac7-7b61d10b0038\">\n",
              "    <div class=\"colab-df-container\">\n",
              "      <div>\n",
              "<style scoped>\n",
              "    .dataframe tbody tr th:only-of-type {\n",
              "        vertical-align: middle;\n",
              "    }\n",
              "\n",
              "    .dataframe tbody tr th {\n",
              "        vertical-align: top;\n",
              "    }\n",
              "\n",
              "    .dataframe thead th {\n",
              "        text-align: right;\n",
              "    }\n",
              "</style>\n",
              "<table border=\"1\" class=\"dataframe\">\n",
              "  <thead>\n",
              "    <tr style=\"text-align: right;\">\n",
              "      <th></th>\n",
              "      <th>Date</th>\n",
              "      <th>Stock</th>\n",
              "      <th>liabilities</th>\n",
              "      <th>equity</th>\n",
              "      <th>total_assets</th>\n",
              "      <th>current_assets</th>\n",
              "      <th>current_liabilities</th>\n",
              "      <th>total_revenue</th>\n",
              "      <th>net_income</th>\n",
              "      <th>dividend</th>\n",
              "      <th>shares_outstanding</th>\n",
              "      <th>price</th>\n",
              "      <th>EMA_10</th>\n",
              "      <th>EMA_24</th>\n",
              "      <th>MACD</th>\n",
              "      <th>Signal_Line</th>\n",
              "    </tr>\n",
              "  </thead>\n",
              "  <tbody>\n",
              "    <tr>\n",
              "      <th>0</th>\n",
              "      <td>2006-07-31</td>\n",
              "      <td>Stock 1</td>\n",
              "      <td>625.898686</td>\n",
              "      <td>925.086518</td>\n",
              "      <td>1550.985204</td>\n",
              "      <td>675.789905</td>\n",
              "      <td>555.931329</td>\n",
              "      <td>548.488451</td>\n",
              "      <td>251.282553</td>\n",
              "      <td>68.184030</td>\n",
              "      <td>1040831</td>\n",
              "      <td>100.000000</td>\n",
              "      <td>100.000000</td>\n",
              "      <td>100.000000</td>\n",
              "      <td>0.000000</td>\n",
              "      <td>0.000000</td>\n",
              "    </tr>\n",
              "    <tr>\n",
              "      <th>1</th>\n",
              "      <td>2006-08-31</td>\n",
              "      <td>Stock 1</td>\n",
              "      <td>407.387467</td>\n",
              "      <td>903.249093</td>\n",
              "      <td>1310.636561</td>\n",
              "      <td>1023.110983</td>\n",
              "      <td>1295.186240</td>\n",
              "      <td>513.446432</td>\n",
              "      <td>207.576940</td>\n",
              "      <td>42.232672</td>\n",
              "      <td>1046649</td>\n",
              "      <td>101.924169</td>\n",
              "      <td>100.349849</td>\n",
              "      <td>100.153934</td>\n",
              "      <td>0.195915</td>\n",
              "      <td>0.039183</td>\n",
              "    </tr>\n",
              "    <tr>\n",
              "      <th>2</th>\n",
              "      <td>2006-09-29</td>\n",
              "      <td>Stock 1</td>\n",
              "      <td>464.069891</td>\n",
              "      <td>602.668832</td>\n",
              "      <td>1066.738722</td>\n",
              "      <td>709.711673</td>\n",
              "      <td>598.719338</td>\n",
              "      <td>503.519871</td>\n",
              "      <td>133.719700</td>\n",
              "      <td>28.835722</td>\n",
              "      <td>1094158</td>\n",
              "      <td>103.166191</td>\n",
              "      <td>100.861911</td>\n",
              "      <td>100.394914</td>\n",
              "      <td>0.466997</td>\n",
              "      <td>0.124746</td>\n",
              "    </tr>\n",
              "    <tr>\n",
              "      <th>3</th>\n",
              "      <td>2006-10-31</td>\n",
              "      <td>Stock 1</td>\n",
              "      <td>855.854937</td>\n",
              "      <td>391.375369</td>\n",
              "      <td>1247.230306</td>\n",
              "      <td>649.979564</td>\n",
              "      <td>733.594339</td>\n",
              "      <td>596.006397</td>\n",
              "      <td>-76.881818</td>\n",
              "      <td>0.000000</td>\n",
              "      <td>1018574</td>\n",
              "      <td>104.478956</td>\n",
              "      <td>101.519556</td>\n",
              "      <td>100.721638</td>\n",
              "      <td>0.797918</td>\n",
              "      <td>0.259380</td>\n",
              "    </tr>\n",
              "    <tr>\n",
              "      <th>4</th>\n",
              "      <td>2006-11-30</td>\n",
              "      <td>Stock 1</td>\n",
              "      <td>453.954969</td>\n",
              "      <td>956.490566</td>\n",
              "      <td>1410.445534</td>\n",
              "      <td>1115.594551</td>\n",
              "      <td>1152.274711</td>\n",
              "      <td>965.939247</td>\n",
              "      <td>-309.204301</td>\n",
              "      <td>0.000000</td>\n",
              "      <td>1036293</td>\n",
              "      <td>104.160907</td>\n",
              "      <td>101.999801</td>\n",
              "      <td>100.996779</td>\n",
              "      <td>1.003022</td>\n",
              "      <td>0.408109</td>\n",
              "    </tr>\n",
              "    <tr>\n",
              "      <th>...</th>\n",
              "      <td>...</td>\n",
              "      <td>...</td>\n",
              "      <td>...</td>\n",
              "      <td>...</td>\n",
              "      <td>...</td>\n",
              "      <td>...</td>\n",
              "      <td>...</td>\n",
              "      <td>...</td>\n",
              "      <td>...</td>\n",
              "      <td>...</td>\n",
              "      <td>...</td>\n",
              "      <td>...</td>\n",
              "      <td>...</td>\n",
              "      <td>...</td>\n",
              "      <td>...</td>\n",
              "      <td>...</td>\n",
              "    </tr>\n",
              "    <tr>\n",
              "      <th>295</th>\n",
              "      <td>2018-08-31</td>\n",
              "      <td>Stock 2</td>\n",
              "      <td>722.917095</td>\n",
              "      <td>594.617882</td>\n",
              "      <td>1317.534976</td>\n",
              "      <td>903.806857</td>\n",
              "      <td>998.807333</td>\n",
              "      <td>171.240116</td>\n",
              "      <td>-64.613099</td>\n",
              "      <td>0.000000</td>\n",
              "      <td>1049611</td>\n",
              "      <td>88.802113</td>\n",
              "      <td>91.694941</td>\n",
              "      <td>94.879842</td>\n",
              "      <td>-3.184902</td>\n",
              "      <td>-2.629405</td>\n",
              "    </tr>\n",
              "    <tr>\n",
              "      <th>296</th>\n",
              "      <td>2018-09-28</td>\n",
              "      <td>Stock 2</td>\n",
              "      <td>891.783838</td>\n",
              "      <td>753.913806</td>\n",
              "      <td>1645.697644</td>\n",
              "      <td>501.563160</td>\n",
              "      <td>475.549272</td>\n",
              "      <td>495.507514</td>\n",
              "      <td>-6.167311</td>\n",
              "      <td>0.000000</td>\n",
              "      <td>1001398</td>\n",
              "      <td>88.018930</td>\n",
              "      <td>91.026575</td>\n",
              "      <td>94.330969</td>\n",
              "      <td>-3.304394</td>\n",
              "      <td>-2.764403</td>\n",
              "    </tr>\n",
              "    <tr>\n",
              "      <th>297</th>\n",
              "      <td>2018-10-31</td>\n",
              "      <td>Stock 2</td>\n",
              "      <td>620.591470</td>\n",
              "      <td>838.042518</td>\n",
              "      <td>1458.633987</td>\n",
              "      <td>518.604852</td>\n",
              "      <td>423.817563</td>\n",
              "      <td>821.772578</td>\n",
              "      <td>69.788083</td>\n",
              "      <td>16.171886</td>\n",
              "      <td>1030467</td>\n",
              "      <td>87.617812</td>\n",
              "      <td>90.406800</td>\n",
              "      <td>93.793917</td>\n",
              "      <td>-3.387117</td>\n",
              "      <td>-2.888946</td>\n",
              "    </tr>\n",
              "    <tr>\n",
              "      <th>298</th>\n",
              "      <td>2018-11-30</td>\n",
              "      <td>Stock 2</td>\n",
              "      <td>729.233328</td>\n",
              "      <td>739.226300</td>\n",
              "      <td>1468.459628</td>\n",
              "      <td>809.035407</td>\n",
              "      <td>757.767057</td>\n",
              "      <td>149.754965</td>\n",
              "      <td>36.089098</td>\n",
              "      <td>10.609074</td>\n",
              "      <td>1094560</td>\n",
              "      <td>88.135261</td>\n",
              "      <td>89.993793</td>\n",
              "      <td>93.341224</td>\n",
              "      <td>-3.347431</td>\n",
              "      <td>-2.980643</td>\n",
              "    </tr>\n",
              "    <tr>\n",
              "      <th>299</th>\n",
              "      <td>2018-12-31</td>\n",
              "      <td>Stock 2</td>\n",
              "      <td>795.486899</td>\n",
              "      <td>209.046246</td>\n",
              "      <td>1004.533145</td>\n",
              "      <td>623.772672</td>\n",
              "      <td>647.202488</td>\n",
              "      <td>178.687823</td>\n",
              "      <td>13.356626</td>\n",
              "      <td>3.990298</td>\n",
              "      <td>1032920</td>\n",
              "      <td>88.942826</td>\n",
              "      <td>89.802708</td>\n",
              "      <td>92.989352</td>\n",
              "      <td>-3.186644</td>\n",
              "      <td>-3.021843</td>\n",
              "    </tr>\n",
              "  </tbody>\n",
              "</table>\n",
              "<p>300 rows × 16 columns</p>\n",
              "</div>\n",
              "      <button class=\"colab-df-convert\" onclick=\"convertToInteractive('df-0d930127-d75e-4bcd-bac7-7b61d10b0038')\"\n",
              "              title=\"Convert this dataframe to an interactive table.\"\n",
              "              style=\"display:none;\">\n",
              "        \n",
              "  <svg xmlns=\"http://www.w3.org/2000/svg\" height=\"24px\"viewBox=\"0 0 24 24\"\n",
              "       width=\"24px\">\n",
              "    <path d=\"M0 0h24v24H0V0z\" fill=\"none\"/>\n",
              "    <path d=\"M18.56 5.44l.94 2.06.94-2.06 2.06-.94-2.06-.94-.94-2.06-.94 2.06-2.06.94zm-11 1L8.5 8.5l.94-2.06 2.06-.94-2.06-.94L8.5 2.5l-.94 2.06-2.06.94zm10 10l.94 2.06.94-2.06 2.06-.94-2.06-.94-.94-2.06-.94 2.06-2.06.94z\"/><path d=\"M17.41 7.96l-1.37-1.37c-.4-.4-.92-.59-1.43-.59-.52 0-1.04.2-1.43.59L10.3 9.45l-7.72 7.72c-.78.78-.78 2.05 0 2.83L4 21.41c.39.39.9.59 1.41.59.51 0 1.02-.2 1.41-.59l7.78-7.78 2.81-2.81c.8-.78.8-2.07 0-2.86zM5.41 20L4 18.59l7.72-7.72 1.47 1.35L5.41 20z\"/>\n",
              "  </svg>\n",
              "      </button>\n",
              "      \n",
              "  <style>\n",
              "    .colab-df-container {\n",
              "      display:flex;\n",
              "      flex-wrap:wrap;\n",
              "      gap: 12px;\n",
              "    }\n",
              "\n",
              "    .colab-df-convert {\n",
              "      background-color: #E8F0FE;\n",
              "      border: none;\n",
              "      border-radius: 50%;\n",
              "      cursor: pointer;\n",
              "      display: none;\n",
              "      fill: #1967D2;\n",
              "      height: 32px;\n",
              "      padding: 0 0 0 0;\n",
              "      width: 32px;\n",
              "    }\n",
              "\n",
              "    .colab-df-convert:hover {\n",
              "      background-color: #E2EBFA;\n",
              "      box-shadow: 0px 1px 2px rgba(60, 64, 67, 0.3), 0px 1px 3px 1px rgba(60, 64, 67, 0.15);\n",
              "      fill: #174EA6;\n",
              "    }\n",
              "\n",
              "    [theme=dark] .colab-df-convert {\n",
              "      background-color: #3B4455;\n",
              "      fill: #D2E3FC;\n",
              "    }\n",
              "\n",
              "    [theme=dark] .colab-df-convert:hover {\n",
              "      background-color: #434B5C;\n",
              "      box-shadow: 0px 1px 3px 1px rgba(0, 0, 0, 0.15);\n",
              "      filter: drop-shadow(0px 1px 2px rgba(0, 0, 0, 0.3));\n",
              "      fill: #FFFFFF;\n",
              "    }\n",
              "  </style>\n",
              "\n",
              "      <script>\n",
              "        const buttonEl =\n",
              "          document.querySelector('#df-0d930127-d75e-4bcd-bac7-7b61d10b0038 button.colab-df-convert');\n",
              "        buttonEl.style.display =\n",
              "          google.colab.kernel.accessAllowed ? 'block' : 'none';\n",
              "\n",
              "        async function convertToInteractive(key) {\n",
              "          const element = document.querySelector('#df-0d930127-d75e-4bcd-bac7-7b61d10b0038');\n",
              "          const dataTable =\n",
              "            await google.colab.kernel.invokeFunction('convertToInteractive',\n",
              "                                                     [key], {});\n",
              "          if (!dataTable) return;\n",
              "\n",
              "          const docLinkHtml = 'Like what you see? Visit the ' +\n",
              "            '<a target=\"_blank\" href=https://colab.research.google.com/notebooks/data_table.ipynb>data table notebook</a>'\n",
              "            + ' to learn more about interactive tables.';\n",
              "          element.innerHTML = '';\n",
              "          dataTable['output_type'] = 'display_data';\n",
              "          await google.colab.output.renderOutput(dataTable, element);\n",
              "          const docLink = document.createElement('div');\n",
              "          docLink.innerHTML = docLinkHtml;\n",
              "          element.appendChild(docLink);\n",
              "        }\n",
              "      </script>\n",
              "    </div>\n",
              "  </div>\n",
              "  "
            ]
          },
          "metadata": {},
          "execution_count": 383
        }
      ]
    },
    {
      "cell_type": "code",
      "source": [
        "# def ichimoku_cloud(df):\n",
        "   \n",
        "#     conversion_line_period = 10\n",
        "#     base_line_period = 26\n",
        "#     leading_span_b_period = 52\n",
        "#     lagging_span_period = 28\n",
        "  \n",
        "#     df['Conversion Line'] = (df['High'].rolling(window=conversion_line_period).max() + df['Low'].rolling(window=conversion_line_period).min()) / 2\n",
        "   \n",
        "#     df['Base Line'] = (df['High'].rolling(window=base_line_period).max() + df['Low'].rolling(window=base_line_period).min()) / 2\n",
        "    \n",
        "#     df['Leading Span A'] = (df['Conversion Line'] + df['Base Line']) / 2\n",
        "    \n",
        "#     df['Leading Span B'] = (df['High'].rolling(window=leading_span_b_period).max() + df['Low'].rolling(window=leading_span_b_period).min()) / 2\n",
        "    \n",
        "#     df['Lagging Span'] = df['Close'].shift(-lagging_span_period)\n",
        "    \n",
        "#     df['Leading Span A'] = df['Leading Span A'].shift(base_line_period)\n",
        "#     df['Leading Span B'] = df['Leading Span B'].shift(base_line_period)\n",
        "    \n",
        "#     return df\n",
        "\n",
        "\n"
      ],
      "metadata": {
        "id": "OH3t2vw7LDsX"
      },
      "execution_count": null,
      "outputs": []
    },
    {
      "cell_type": "code",
      "source": [
        "# symbol = 'ADANIENT.NS'\n",
        "# start_date = '2021-01-01'\n",
        "# end_date = '2023-01-01'\n",
        "\n",
        "# data = yf.download(symbol, start=start_date, end=end_date)\n",
        "\n",
        "# print(data)"
      ],
      "metadata": {
        "id": "GcFaE1JLOOzt"
      },
      "execution_count": null,
      "outputs": []
    },
    {
      "cell_type": "code",
      "source": [
        "cols = list(df)[2:12]\n",
        "print(cols)"
      ],
      "metadata": {
        "colab": {
          "base_uri": "https://localhost:8080/"
        },
        "id": "YLtCdVuQdaqD",
        "outputId": "2de04a7e-0164-49ab-c490-d56696121fda"
      },
      "execution_count": null,
      "outputs": [
        {
          "output_type": "stream",
          "name": "stdout",
          "text": [
            "['liabilities', 'equity', 'total_assets', 'current_assets', 'current_liabilities', 'total_revenue', 'net_income', 'dividend', 'shares_outstanding', 'price']\n"
          ]
        }
      ]
    },
    {
      "cell_type": "code",
      "source": [
        "df_for_training = df[cols].astype(float)"
      ],
      "metadata": {
        "id": "kW6fJrsveCsy"
      },
      "execution_count": null,
      "outputs": []
    },
    {
      "cell_type": "code",
      "source": [
        "scaler = StandardScaler()\n",
        "scaler = scaler.fit(df_for_training)\n",
        "df_for_training_scaled = scaler.transform(df_for_training)"
      ],
      "metadata": {
        "id": "sMJHDh0Eea0u"
      },
      "execution_count": null,
      "outputs": []
    },
    {
      "cell_type": "code",
      "source": [
        "trainX = []\n",
        "trainY = []"
      ],
      "metadata": {
        "id": "UXLCuxpYefYU"
      },
      "execution_count": null,
      "outputs": []
    },
    {
      "cell_type": "code",
      "source": [
        "n_future = 1   # Number of days we want to look into the future based on the past days.\n",
        "n_past = 14 # Number of past days we want to use to predict the future."
      ],
      "metadata": {
        "id": "SlZmQQHaepNo"
      },
      "execution_count": null,
      "outputs": []
    },
    {
      "cell_type": "code",
      "source": [
        "for i in range(n_past, len(df_for_training_scaled) - n_future +1):\n",
        "    trainX.append(df_for_training_scaled[i - n_past:i, 0:df_for_training.shape[1]])\n",
        "    trainY.append(df_for_training_scaled[i + n_future - 1:i + n_future, 9])\n",
        "\n",
        "trainX, trainY = np.array(trainX), np.array(trainY)\n",
        "\n",
        "print('trainX shape == {}.'.format(trainX.shape))\n",
        "print('trainY shape == {}.'.format(trainY.shape))"
      ],
      "metadata": {
        "colab": {
          "base_uri": "https://localhost:8080/"
        },
        "id": "9UGlhknUfFXB",
        "outputId": "94e0d24e-b03e-4359-a5fd-0cbd64892448"
      },
      "execution_count": null,
      "outputs": [
        {
          "output_type": "stream",
          "name": "stdout",
          "text": [
            "trainX shape == (286, 14, 10).\n",
            "trainY shape == (286, 1).\n"
          ]
        }
      ]
    },
    {
      "cell_type": "code",
      "source": [
        "df_for_training_scaled"
      ],
      "metadata": {
        "colab": {
          "base_uri": "https://localhost:8080/"
        },
        "id": "Mf2hun7pvqvf",
        "outputId": "e1aaa10a-dfc0-4f8d-aa7c-4e9eddfda7ed"
      },
      "execution_count": null,
      "outputs": [
        {
          "output_type": "execute_result",
          "data": {
            "text/plain": [
              "array([[ 0.33927535,  1.4439553 ,  1.32741326, ...,  1.75202465,\n",
              "        -0.25368313, -1.13001325],\n",
              "       [-0.53505957,  1.36273722,  0.65295245, ...,  0.83317901,\n",
              "        -0.05190553, -0.93261857],\n",
              "       [-0.30825464,  0.24481455, -0.03146803, ...,  0.35884045,\n",
              "         1.59578297, -0.80520333],\n",
              "       ...,\n",
              "       [ 0.31803944,  1.12021993,  1.06825941, ..., -0.08954109,\n",
              "        -0.61312331, -2.40026425],\n",
              "       [ 0.75275108,  0.75270116,  1.09583189, ..., -0.28650059,\n",
              "         1.60972498, -2.34718066],\n",
              "       [ 1.01785332, -1.21915254, -0.20602788, ..., -0.52084799,\n",
              "        -0.52804933, -2.26433503]])"
            ]
          },
          "metadata": {},
          "execution_count": 392
        }
      ]
    },
    {
      "cell_type": "code",
      "source": [
        "trainY"
      ],
      "metadata": {
        "colab": {
          "base_uri": "https://localhost:8080/"
        },
        "id": "A4HvqbAkv1ZW",
        "outputId": "27f26d58-9e70-432c-ddcd-11d5716bd2b0"
      },
      "execution_count": null,
      "outputs": [
        {
          "output_type": "execute_result",
          "data": {
            "text/plain": [
              "array([[-0.27415295],\n",
              "       [-0.4172296 ],\n",
              "       [-0.35387503],\n",
              "       [-0.42298223],\n",
              "       [-0.45490064],\n",
              "       [-0.38307664],\n",
              "       [-0.27161913],\n",
              "       [-0.33393997],\n",
              "       [-0.47242882],\n",
              "       [-0.63699319],\n",
              "       [-0.58730559],\n",
              "       [-0.53729528],\n",
              "       [-0.46737562],\n",
              "       [-0.43149354],\n",
              "       [-0.3942545 ],\n",
              "       [-0.35366943],\n",
              "       [-0.18111648],\n",
              "       [-0.14888244],\n",
              "       [-0.01403419],\n",
              "       [ 0.13603103],\n",
              "       [ 0.3618567 ],\n",
              "       [ 0.37585134],\n",
              "       [ 0.328182  ],\n",
              "       [ 0.23368626],\n",
              "       [ 0.12337806],\n",
              "       [ 0.15290226],\n",
              "       [ 0.17534615],\n",
              "       [ 0.25750438],\n",
              "       [ 0.29304014],\n",
              "       [ 0.26782156],\n",
              "       [ 0.35172459],\n",
              "       [ 0.29518009],\n",
              "       [ 0.33853724],\n",
              "       [ 0.48501681],\n",
              "       [ 0.53745314],\n",
              "       [ 0.54038024],\n",
              "       [ 0.59345346],\n",
              "       [ 0.69005345],\n",
              "       [ 0.51770349],\n",
              "       [ 0.49885217],\n",
              "       [ 0.58014578],\n",
              "       [ 0.6517627 ],\n",
              "       [ 0.70288707],\n",
              "       [ 0.78728772],\n",
              "       [ 0.73221432],\n",
              "       [ 0.63264234],\n",
              "       [ 0.4905674 ],\n",
              "       [ 0.40028765],\n",
              "       [ 0.47420153],\n",
              "       [ 0.56923101],\n",
              "       [ 0.75992969],\n",
              "       [ 0.87536568],\n",
              "       [ 0.9834078 ],\n",
              "       [ 1.17293261],\n",
              "       [ 1.15910926],\n",
              "       [ 1.10917519],\n",
              "       [ 1.2875082 ],\n",
              "       [ 1.2024192 ],\n",
              "       [ 1.0450794 ],\n",
              "       [ 1.11680549],\n",
              "       [ 1.10487476],\n",
              "       [ 1.17617264],\n",
              "       [ 1.08426094],\n",
              "       [ 1.13746649],\n",
              "       [ 1.11820896],\n",
              "       [ 1.19059049],\n",
              "       [ 1.15978595],\n",
              "       [ 1.15153579],\n",
              "       [ 1.10326004],\n",
              "       [ 1.14579805],\n",
              "       [ 1.26777207],\n",
              "       [ 1.39573683],\n",
              "       [ 1.31716501],\n",
              "       [ 1.23129874],\n",
              "       [ 1.11654246],\n",
              "       [ 1.10075803],\n",
              "       [ 0.99520454],\n",
              "       [ 1.06114919],\n",
              "       [ 1.18342576],\n",
              "       [ 1.33949315],\n",
              "       [ 1.45689761],\n",
              "       [ 1.45384198],\n",
              "       [ 1.53677625],\n",
              "       [ 1.5919444 ],\n",
              "       [ 1.55349429],\n",
              "       [ 1.56785273],\n",
              "       [ 1.70125575],\n",
              "       [ 1.66044098],\n",
              "       [ 1.54362224],\n",
              "       [ 1.46247124],\n",
              "       [ 1.37736185],\n",
              "       [ 1.43767472],\n",
              "       [ 1.42436619],\n",
              "       [ 1.54726793],\n",
              "       [ 1.61185136],\n",
              "       [ 1.70667825],\n",
              "       [ 1.64828049],\n",
              "       [ 1.59337272],\n",
              "       [ 1.4665234 ],\n",
              "       [ 1.52725951],\n",
              "       [ 1.63147206],\n",
              "       [ 1.59607982],\n",
              "       [ 1.49514239],\n",
              "       [ 1.57918727],\n",
              "       [ 1.55346449],\n",
              "       [ 1.52747939],\n",
              "       [ 1.49916922],\n",
              "       [ 1.52956971],\n",
              "       [ 1.4772234 ],\n",
              "       [ 1.5808452 ],\n",
              "       [ 1.56407916],\n",
              "       [ 1.44651472],\n",
              "       [ 1.36313831],\n",
              "       [ 1.44095664],\n",
              "       [ 1.55095532],\n",
              "       [ 1.43232569],\n",
              "       [ 1.22446508],\n",
              "       [ 1.22322014],\n",
              "       [ 1.25618137],\n",
              "       [ 1.22528978],\n",
              "       [ 1.16701029],\n",
              "       [ 1.08230518],\n",
              "       [ 1.24911956],\n",
              "       [ 1.24532482],\n",
              "       [ 1.18457527],\n",
              "       [ 1.30334127],\n",
              "       [ 1.4908495 ],\n",
              "       [ 1.44184758],\n",
              "       [ 1.28975133],\n",
              "       [ 1.26784749],\n",
              "       [ 1.17905731],\n",
              "       [ 1.01360359],\n",
              "       [ 1.00556159],\n",
              "       [ 1.07983834],\n",
              "       [ 0.96073933],\n",
              "       [ 0.88965415],\n",
              "       [-1.13001325],\n",
              "       [-0.8896838 ],\n",
              "       [-0.75925224],\n",
              "       [-0.8444404 ],\n",
              "       [-0.88059299],\n",
              "       [-0.953888  ],\n",
              "       [-0.91850777],\n",
              "       [-0.94625407],\n",
              "       [-0.82753036],\n",
              "       [-0.72126797],\n",
              "       [-0.59638753],\n",
              "       [-0.43355229],\n",
              "       [-0.27628426],\n",
              "       [-0.15261585],\n",
              "       [-0.13012831],\n",
              "       [-0.15593266],\n",
              "       [-0.1328667 ],\n",
              "       [-0.01674721],\n",
              "       [-0.08445042],\n",
              "       [-0.21829467],\n",
              "       [-0.19285737],\n",
              "       [-0.22255681],\n",
              "       [-0.34403856],\n",
              "       [-0.31758297],\n",
              "       [-0.17975293],\n",
              "       [-0.01068512],\n",
              "       [-0.04923615],\n",
              "       [-0.16409401],\n",
              "       [-0.09043589],\n",
              "       [-0.00272607],\n",
              "       [-0.10053702],\n",
              "       [-0.03846868],\n",
              "       [-0.13762543],\n",
              "       [-0.07904725],\n",
              "       [-0.1792851 ],\n",
              "       [-0.16292522],\n",
              "       [-0.11402269],\n",
              "       [-0.01832475],\n",
              "       [-0.12284429],\n",
              "       [-0.29419726],\n",
              "       [-0.38426322],\n",
              "       [-0.33436584],\n",
              "       [-0.3076207 ],\n",
              "       [-0.41563052],\n",
              "       [-0.5092154 ],\n",
              "       [-0.58696542],\n",
              "       [-0.74336244],\n",
              "       [-0.87432576],\n",
              "       [-1.02856742],\n",
              "       [-0.91724748],\n",
              "       [-0.97827311],\n",
              "       [-0.91602391],\n",
              "       [-0.96602077],\n",
              "       [-0.88791734],\n",
              "       [-0.76845745],\n",
              "       [-0.81102807],\n",
              "       [-0.77393807],\n",
              "       [-0.67990181],\n",
              "       [-0.46321078],\n",
              "       [-0.32875292],\n",
              "       [-0.3788764 ],\n",
              "       [-0.41909261],\n",
              "       [-0.39471994],\n",
              "       [-0.48551094],\n",
              "       [-0.62905319],\n",
              "       [-0.58661378],\n",
              "       [-0.61264658],\n",
              "       [-0.53267858],\n",
              "       [-0.40918338],\n",
              "       [-0.48358612],\n",
              "       [-0.55960082],\n",
              "       [-0.65970191],\n",
              "       [-0.75991058],\n",
              "       [-0.62228157],\n",
              "       [-0.66375892],\n",
              "       [-0.53530135],\n",
              "       [-0.54250087],\n",
              "       [-0.45808442],\n",
              "       [-0.50490143],\n",
              "       [-0.55579648],\n",
              "       [-0.50992288],\n",
              "       [-0.40162174],\n",
              "       [-0.48390008],\n",
              "       [-0.32943863],\n",
              "       [-0.15702017],\n",
              "       [-0.04933759],\n",
              "       [ 0.02464847],\n",
              "       [-0.05508814],\n",
              "       [-0.17296818],\n",
              "       [-0.29814377],\n",
              "       [-0.43142778],\n",
              "       [-0.42665149],\n",
              "       [-0.38082146],\n",
              "       [-0.25048957],\n",
              "       [-0.13372304],\n",
              "       [-0.0141417 ],\n",
              "       [-0.11383442],\n",
              "       [-0.23353563],\n",
              "       [-0.3087175 ],\n",
              "       [-0.52281366],\n",
              "       [-0.55255476],\n",
              "       [-0.592313  ],\n",
              "       [-0.6736068 ],\n",
              "       [-0.63673684],\n",
              "       [-0.7502612 ],\n",
              "       [-0.74649239],\n",
              "       [-0.6593613 ],\n",
              "       [-0.72073632],\n",
              "       [-0.82387017],\n",
              "       [-0.86622495],\n",
              "       [-0.8500231 ],\n",
              "       [-0.76196581],\n",
              "       [-0.75525609],\n",
              "       [-0.90038684],\n",
              "       [-0.81677984],\n",
              "       [-0.88651822],\n",
              "       [-0.85018828],\n",
              "       [-0.83993134],\n",
              "       [-0.99114728],\n",
              "       [-1.08442111],\n",
              "       [-1.18248938],\n",
              "       [-1.13744362],\n",
              "       [-1.04629878],\n",
              "       [-1.0569987 ],\n",
              "       [-1.1459741 ],\n",
              "       [-1.27693628],\n",
              "       [-1.40138523],\n",
              "       [-1.46217689],\n",
              "       [-1.43248785],\n",
              "       [-1.47640196],\n",
              "       [-1.51543529],\n",
              "       [-1.58490083],\n",
              "       [-1.55483378],\n",
              "       [-1.45687241],\n",
              "       [-1.31180662],\n",
              "       [-1.36374576],\n",
              "       [-1.46778653],\n",
              "       [-1.56334351],\n",
              "       [-1.64990618],\n",
              "       [-1.77779186],\n",
              "       [-1.95450068],\n",
              "       [-2.06147763],\n",
              "       [-2.19591655],\n",
              "       [-2.14799048],\n",
              "       [-2.22517058],\n",
              "       [-2.27877037],\n",
              "       [-2.35911478],\n",
              "       [-2.40026425],\n",
              "       [-2.34718066],\n",
              "       [-2.26433503]])"
            ]
          },
          "metadata": {},
          "execution_count": 393
        }
      ]
    },
    {
      "cell_type": "code",
      "source": [
        "model = Sequential()\n",
        "model.add(LSTM(64, activation='relu', input_shape=(trainX.shape[1], trainX.shape[2]), return_sequences=True)) \n",
        "model.add(LSTM(32, activation='relu', return_sequences=False))\n",
        "model.add(Dropout(0.2))\n",
        "model.add(Dense(trainY.shape[1]))\n",
        "\n",
        "model.compile(optimizer='adam', loss='mse')\n",
        "model.summary()"
      ],
      "metadata": {
        "colab": {
          "base_uri": "https://localhost:8080/"
        },
        "id": "xLJ_fEZ8foI3",
        "outputId": "e501438b-6bad-4d64-f097-83a50dd9254b"
      },
      "execution_count": null,
      "outputs": [
        {
          "output_type": "stream",
          "name": "stdout",
          "text": [
            "Model: \"sequential_12\"\n",
            "_________________________________________________________________\n",
            " Layer (type)                Output Shape              Param #   \n",
            "=================================================================\n",
            " lstm_24 (LSTM)              (None, 14, 64)            19200     \n",
            "                                                                 \n",
            " lstm_25 (LSTM)              (None, 32)                12416     \n",
            "                                                                 \n",
            " dropout_12 (Dropout)        (None, 32)                0         \n",
            "                                                                 \n",
            " dense_12 (Dense)            (None, 1)                 33        \n",
            "                                                                 \n",
            "=================================================================\n",
            "Total params: 31,649\n",
            "Trainable params: 31,649\n",
            "Non-trainable params: 0\n",
            "_________________________________________________________________\n"
          ]
        }
      ]
    },
    {
      "cell_type": "code",
      "source": [
        "history = model.fit(trainX, trainY, epochs=5, batch_size=3, validation_split=0.1, verbose=1,)"
      ],
      "metadata": {
        "colab": {
          "base_uri": "https://localhost:8080/"
        },
        "id": "gR-gELFqhCt3",
        "outputId": "bc84612e-2fe5-4f80-a4c6-56cd5939f64f"
      },
      "execution_count": null,
      "outputs": [
        {
          "output_type": "stream",
          "name": "stdout",
          "text": [
            "Epoch 1/5\n",
            "86/86 [==============================] - 4s 17ms/step - loss: 0.3040 - val_loss: 0.2139\n",
            "Epoch 2/5\n",
            "86/86 [==============================] - 1s 10ms/step - loss: 0.0973 - val_loss: 0.0758\n",
            "Epoch 3/5\n",
            "86/86 [==============================] - 1s 11ms/step - loss: 0.0927 - val_loss: 0.3105\n",
            "Epoch 4/5\n",
            "86/86 [==============================] - 1s 10ms/step - loss: 0.0749 - val_loss: 0.0627\n",
            "Epoch 5/5\n",
            "86/86 [==============================] - 1s 11ms/step - loss: 0.0644 - val_loss: 0.2784\n"
          ]
        }
      ]
    },
    {
      "cell_type": "code",
      "source": [
        "plt.plot(history.history['loss'], label='Training loss')\n",
        "plt.plot(history.history['val_loss'], label='Validation loss')\n",
        "plt.legend()"
      ],
      "metadata": {
        "colab": {
          "base_uri": "https://localhost:8080/",
          "height": 448
        },
        "id": "ReHWBQ1VhKzd",
        "outputId": "f3052ad9-9858-4d75-c478-3c2e9153acd3"
      },
      "execution_count": null,
      "outputs": [
        {
          "output_type": "execute_result",
          "data": {
            "text/plain": [
              "<matplotlib.legend.Legend at 0x7fd77e075480>"
            ]
          },
          "metadata": {},
          "execution_count": 396
        },
        {
          "output_type": "display_data",
          "data": {
            "text/plain": [
              "<Figure size 640x480 with 1 Axes>"
            ],
            "image/png": "[encoded data removed]"
          },
          "metadata": {}
        }
      ]
    },
    {
      "cell_type": "code",
      "source": [
        "from pandas.tseries.holiday import USFederalHolidayCalendar\n",
        "from pandas.tseries.offsets import CustomBusinessDay\n",
        "us_bd = CustomBusinessDay(calendar=USFederalHolidayCalendar())"
      ],
      "metadata": {
        "id": "ncph6lCWjfQ_"
      },
      "execution_count": null,
      "outputs": []
    },
    {
      "cell_type": "code",
      "source": [
        "df2= df.head(300)\n",
        "train_dates = pd.to_datetime(df2['Date'])\n",
        "print(train_dates.tail(15)) "
      ],
      "metadata": {
        "colab": {
          "base_uri": "https://localhost:8080/"
        },
        "id": "DSZrHFBYj7iK",
        "outputId": "e49ca425-e9f0-484b-dc42-f7659e9803f8"
      },
      "execution_count": null,
      "outputs": [
        {
          "output_type": "stream",
          "name": "stdout",
          "text": [
            "285   2017-10-31\n",
            "286   2017-11-30\n",
            "287   2017-12-29\n",
            "288   2018-01-31\n",
            "289   2018-02-28\n",
            "290   2018-03-30\n",
            "291   2018-04-30\n",
            "292   2018-05-31\n",
            "293   2018-06-29\n",
            "294   2018-07-31\n",
            "295   2018-08-31\n",
            "296   2018-09-28\n",
            "297   2018-10-31\n",
            "298   2018-11-30\n",
            "299   2018-12-31\n",
            "Name: Date, dtype: datetime64[ns]\n"
          ]
        }
      ]
    },
    {
      "cell_type": "code",
      "source": [
        "n_past = 300\n",
        "n_days_for_prediction=286 #let us predict past 15 days\n",
        "\n",
        "predict_period_dates = pd.date_range(list(train_dates)[-n_past], periods=n_days_for_prediction, freq='M').tolist()\n",
        "print(predict_period_dates)"
      ],
      "metadata": {
        "colab": {
          "base_uri": "https://localhost:8080/"
        },
        "id": "yAZn0dxejZ-b",
        "outputId": "e5f55322-ef4e-4d6c-fc81-156e338c9675"
      },
      "execution_count": null,
      "outputs": [
        {
          "output_type": "stream",
          "name": "stdout",
          "text": [
            "[Timestamp('2006-07-31 00:00:00', freq='M'), Timestamp('2006-08-31 00:00:00', freq='M'), Timestamp('2006-09-30 00:00:00', freq='M'), Timestamp('2006-10-31 00:00:00', freq='M'), Timestamp('2006-11-30 00:00:00', freq='M'), Timestamp('2006-12-31 00:00:00', freq='M'), Timestamp('2007-01-31 00:00:00', freq='M'), Timestamp('2007-02-28 00:00:00', freq='M'), Timestamp('2007-03-31 00:00:00', freq='M'), Timestamp('2007-04-30 00:00:00', freq='M'), Timestamp('2007-05-31 00:00:00', freq='M'), Timestamp('2007-06-30 00:00:00', freq='M'), Timestamp('2007-07-31 00:00:00', freq='M'), Timestamp('2007-08-31 00:00:00', freq='M'), Timestamp('2007-09-30 00:00:00', freq='M'), Timestamp('2007-10-31 00:00:00', freq='M'), Timestamp('2007-11-30 00:00:00', freq='M'), Timestamp('2007-12-31 00:00:00', freq='M'), Timestamp('2008-01-31 00:00:00', freq='M'), Timestamp('2008-02-29 00:00:00', freq='M'), Timestamp('2008-03-31 00:00:00', freq='M'), Timestamp('2008-04-30 00:00:00', freq='M'), Timestamp('2008-05-31 00:00:00', freq='M'), Timestamp('2008-06-30 00:00:00', freq='M'), Timestamp('2008-07-31 00:00:00', freq='M'), Timestamp('2008-08-31 00:00:00', freq='M'), Timestamp('2008-09-30 00:00:00', freq='M'), Timestamp('2008-10-31 00:00:00', freq='M'), Timestamp('2008-11-30 00:00:00', freq='M'), Timestamp('2008-12-31 00:00:00', freq='M'), Timestamp('2009-01-31 00:00:00', freq='M'), Timestamp('2009-02-28 00:00:00', freq='M'), Timestamp('2009-03-31 00:00:00', freq='M'), Timestamp('2009-04-30 00:00:00', freq='M'), Timestamp('2009-05-31 00:00:00', freq='M'), Timestamp('2009-06-30 00:00:00', freq='M'), Timestamp('2009-07-31 00:00:00', freq='M'), Timestamp('2009-08-31 00:00:00', freq='M'), Timestamp('2009-09-30 00:00:00', freq='M'), Timestamp('2009-10-31 00:00:00', freq='M'), Timestamp('2009-11-30 00:00:00', freq='M'), Timestamp('2009-12-31 00:00:00', freq='M'), Timestamp('2010-01-31 00:00:00', freq='M'), Timestamp('2010-02-28 00:00:00', freq='M'), Timestamp('2010-03-31 00:00:00', freq='M'), Timestamp('2010-04-30 00:00:00', freq='M'), Timestamp('2010-05-31 00:00:00', freq='M'), Timestamp('2010-06-30 00:00:00', freq='M'), Timestamp('2010-07-31 00:00:00', freq='M'), Timestamp('2010-08-31 00:00:00', freq='M'), Timestamp('2010-09-30 00:00:00', freq='M'), Timestamp('2010-10-31 00:00:00', freq='M'), Timestamp('2010-11-30 00:00:00', freq='M'), Timestamp('2010-12-31 00:00:00', freq='M'), Timestamp('2011-01-31 00:00:00', freq='M'), Timestamp('2011-02-28 00:00:00', freq='M'), Timestamp('2011-03-31 00:00:00', freq='M'), Timestamp('2011-04-30 00:00:00', freq='M'), Timestamp('2011-05-31 00:00:00', freq='M'), Timestamp('2011-06-30 00:00:00', freq='M'), Timestamp('2011-07-31 00:00:00', freq='M'), Timestamp('2011-08-31 00:00:00', freq='M'), Timestamp('2011-09-30 00:00:00', freq='M'), Timestamp('2011-10-31 00:00:00', freq='M'), Timestamp('2011-11-30 00:00:00', freq='M'), Timestamp('2011-12-31 00:00:00', freq='M'), Timestamp('2012-01-31 00:00:00', freq='M'), Timestamp('2012-02-29 00:00:00', freq='M'), Timestamp('2012-03-31 00:00:00', freq='M'), Timestamp('2012-04-30 00:00:00', freq='M'), Timestamp('2012-05-31 00:00:00', freq='M'), Timestamp('2012-06-30 00:00:00', freq='M'), Timestamp('2012-07-31 00:00:00', freq='M'), Timestamp('2012-08-31 00:00:00', freq='M'), Timestamp('2012-09-30 00:00:00', freq='M'), Timestamp('2012-10-31 00:00:00', freq='M'), Timestamp('2012-11-30 00:00:00', freq='M'), Timestamp('2012-12-31 00:00:00', freq='M'), Timestamp('2013-01-31 00:00:00', freq='M'), Timestamp('2013-02-28 00:00:00', freq='M'), Timestamp('2013-03-31 00:00:00', freq='M'), Timestamp('2013-04-30 00:00:00', freq='M'), Timestamp('2013-05-31 00:00:00', freq='M'), Timestamp('2013-06-30 00:00:00', freq='M'), Timestamp('2013-07-31 00:00:00', freq='M'), Timestamp('2013-08-31 00:00:00', freq='M'), Timestamp('2013-09-30 00:00:00', freq='M'), Timestamp('2013-10-31 00:00:00', freq='M'), Timestamp('2013-11-30 00:00:00', freq='M'), Timestamp('2013-12-31 00:00:00', freq='M'), Timestamp('2014-01-31 00:00:00', freq='M'), Timestamp('2014-02-28 00:00:00', freq='M'), Timestamp('2014-03-31 00:00:00', freq='M'), Timestamp('2014-04-30 00:00:00', freq='M'), Timestamp('2014-05-31 00:00:00', freq='M'), Timestamp('2014-06-30 00:00:00', freq='M'), Timestamp('2014-07-31 00:00:00', freq='M'), Timestamp('2014-08-31 00:00:00', freq='M'), Timestamp('2014-09-30 00:00:00', freq='M'), Timestamp('2014-10-31 00:00:00', freq='M'), Timestamp('2014-11-30 00:00:00', freq='M'), Timestamp('2014-12-31 00:00:00', freq='M'), Timestamp('2015-01-31 00:00:00', freq='M'), Timestamp('2015-02-28 00:00:00', freq='M'), Timestamp('2015-03-31 00:00:00', freq='M'), Timestamp('2015-04-30 00:00:00', freq='M'), Timestamp('2015-05-31 00:00:00', freq='M'), Timestamp('2015-06-30 00:00:00', freq='M'), Timestamp('2015-07-31 00:00:00', freq='M'), Timestamp('2015-08-31 00:00:00', freq='M'), Timestamp('2015-09-30 00:00:00', freq='M'), Timestamp('2015-10-31 00:00:00', freq='M'), Timestamp('2015-11-30 00:00:00', freq='M'), Timestamp('2015-12-31 00:00:00', freq='M'), Timestamp('2016-01-31 00:00:00', freq='M'), Timestamp('2016-02-29 00:00:00', freq='M'), Timestamp('2016-03-31 00:00:00', freq='M'), Timestamp('2016-04-30 00:00:00', freq='M'), Timestamp('2016-05-31 00:00:00', freq='M'), Timestamp('2016-06-30 00:00:00', freq='M'), Timestamp('2016-07-31 00:00:00', freq='M'), Timestamp('2016-08-31 00:00:00', freq='M'), Timestamp('2016-09-30 00:00:00', freq='M'), Timestamp('2016-10-31 00:00:00', freq='M'), Timestamp('2016-11-30 00:00:00', freq='M'), Timestamp('2016-12-31 00:00:00', freq='M'), Timestamp('2017-01-31 00:00:00', freq='M'), Timestamp('2017-02-28 00:00:00', freq='M'), Timestamp('2017-03-31 00:00:00', freq='M'), Timestamp('2017-04-30 00:00:00', freq='M'), Timestamp('2017-05-31 00:00:00', freq='M'), Timestamp('2017-06-30 00:00:00', freq='M'), Timestamp('2017-07-31 00:00:00', freq='M'), Timestamp('2017-08-31 00:00:00', freq='M'), Timestamp('2017-09-30 00:00:00', freq='M'), Timestamp('2017-10-31 00:00:00', freq='M'), Timestamp('2017-11-30 00:00:00', freq='M'), Timestamp('2017-12-31 00:00:00', freq='M'), Timestamp('2018-01-31 00:00:00', freq='M'), Timestamp('2018-02-28 00:00:00', freq='M'), Timestamp('2018-03-31 00:00:00', freq='M'), Timestamp('2018-04-30 00:00:00', freq='M'), Timestamp('2018-05-31 00:00:00', freq='M'), Timestamp('2018-06-30 00:00:00', freq='M'), Timestamp('2018-07-31 00:00:00', freq='M'), Timestamp('2018-08-31 00:00:00', freq='M'), Timestamp('2018-09-30 00:00:00', freq='M'), Timestamp('2018-10-31 00:00:00', freq='M'), Timestamp('2018-11-30 00:00:00', freq='M'), Timestamp('2018-12-31 00:00:00', freq='M'), Timestamp('2019-01-31 00:00:00', freq='M'), Timestamp('2019-02-28 00:00:00', freq='M'), Timestamp('2019-03-31 00:00:00', freq='M'), Timestamp('2019-04-30 00:00:00', freq='M'), Timestamp('2019-05-31 00:00:00', freq='M'), Timestamp('2019-06-30 00:00:00', freq='M'), Timestamp('2019-07-31 00:00:00', freq='M'), Timestamp('2019-08-31 00:00:00', freq='M'), Timestamp('2019-09-30 00:00:00', freq='M'), Timestamp('2019-10-31 00:00:00', freq='M'), Timestamp('2019-11-30 00:00:00', freq='M'), Timestamp('2019-12-31 00:00:00', freq='M'), Timestamp('2020-01-31 00:00:00', freq='M'), Timestamp('2020-02-29 00:00:00', freq='M'), Timestamp('2020-03-31 00:00:00', freq='M'), Timestamp('2020-04-30 00:00:00', freq='M'), Timestamp('2020-05-31 00:00:00', freq='M'), Timestamp('2020-06-30 00:00:00', freq='M'), Timestamp('2020-07-31 00:00:00', freq='M'), Timestamp('2020-08-31 00:00:00', freq='M'), Timestamp('2020-09-30 00:00:00', freq='M'), Timestamp('2020-10-31 00:00:00', freq='M'), Timestamp('2020-11-30 00:00:00', freq='M'), Timestamp('2020-12-31 00:00:00', freq='M'), Timestamp('2021-01-31 00:00:00', freq='M'), Timestamp('2021-02-28 00:00:00', freq='M'), Timestamp('2021-03-31 00:00:00', freq='M'), Timestamp('2021-04-30 00:00:00', freq='M'), Timestamp('2021-05-31 00:00:00', freq='M'), Timestamp('2021-06-30 00:00:00', freq='M'), Timestamp('2021-07-31 00:00:00', freq='M'), Timestamp('2021-08-31 00:00:00', freq='M'), Timestamp('2021-09-30 00:00:00', freq='M'), Timestamp('2021-10-31 00:00:00', freq='M'), Timestamp('2021-11-30 00:00:00', freq='M'), Timestamp('2021-12-31 00:00:00', freq='M'), Timestamp('2022-01-31 00:00:00', freq='M'), Timestamp('2022-02-28 00:00:00', freq='M'), Timestamp('2022-03-31 00:00:00', freq='M'), Timestamp('2022-04-30 00:00:00', freq='M'), Timestamp('2022-05-31 00:00:00', freq='M'), Timestamp('2022-06-30 00:00:00', freq='M'), Timestamp('2022-07-31 00:00:00', freq='M'), Timestamp('2022-08-31 00:00:00', freq='M'), Timestamp('2022-09-30 00:00:00', freq='M'), Timestamp('2022-10-31 00:00:00', freq='M'), Timestamp('2022-11-30 00:00:00', freq='M'), Timestamp('2022-12-31 00:00:00', freq='M'), Timestamp('2023-01-31 00:00:00', freq='M'), Timestamp('2023-02-28 00:00:00', freq='M'), Timestamp('2023-03-31 00:00:00', freq='M'), Timestamp('2023-04-30 00:00:00', freq='M'), Timestamp('2023-05-31 00:00:00', freq='M'), Timestamp('2023-06-30 00:00:00', freq='M'), Timestamp('2023-07-31 00:00:00', freq='M'), Timestamp('2023-08-31 00:00:00', freq='M'), Timestamp('2023-09-30 00:00:00', freq='M'), Timestamp('2023-10-31 00:00:00', freq='M'), Timestamp('2023-11-30 00:00:00', freq='M'), Timestamp('2023-12-31 00:00:00', freq='M'), Timestamp('2024-01-31 00:00:00', freq='M'), Timestamp('2024-02-29 00:00:00', freq='M'), Timestamp('2024-03-31 00:00:00', freq='M'), Timestamp('2024-04-30 00:00:00', freq='M'), Timestamp('2024-05-31 00:00:00', freq='M'), Timestamp('2024-06-30 00:00:00', freq='M'), Timestamp('2024-07-31 00:00:00', freq='M'), Timestamp('2024-08-31 00:00:00', freq='M'), Timestamp('2024-09-30 00:00:00', freq='M'), Timestamp('2024-10-31 00:00:00', freq='M'), Timestamp('2024-11-30 00:00:00', freq='M'), Timestamp('2024-12-31 00:00:00', freq='M'), Timestamp('2025-01-31 00:00:00', freq='M'), Timestamp('2025-02-28 00:00:00', freq='M'), Timestamp('2025-03-31 00:00:00', freq='M'), Timestamp('2025-04-30 00:00:00', freq='M'), Timestamp('2025-05-31 00:00:00', freq='M'), Timestamp('2025-06-30 00:00:00', freq='M'), Timestamp('2025-07-31 00:00:00', freq='M'), Timestamp('2025-08-31 00:00:00', freq='M'), Timestamp('2025-09-30 00:00:00', freq='M'), Timestamp('2025-10-31 00:00:00', freq='M'), Timestamp('2025-11-30 00:00:00', freq='M'), Timestamp('2025-12-31 00:00:00', freq='M'), Timestamp('2026-01-31 00:00:00', freq='M'), Timestamp('2026-02-28 00:00:00', freq='M'), Timestamp('2026-03-31 00:00:00', freq='M'), Timestamp('2026-04-30 00:00:00', freq='M'), Timestamp('2026-05-31 00:00:00', freq='M'), Timestamp('2026-06-30 00:00:00', freq='M'), Timestamp('2026-07-31 00:00:00', freq='M'), Timestamp('2026-08-31 00:00:00', freq='M'), Timestamp('2026-09-30 00:00:00', freq='M'), Timestamp('2026-10-31 00:00:00', freq='M'), Timestamp('2026-11-30 00:00:00', freq='M'), Timestamp('2026-12-31 00:00:00', freq='M'), Timestamp('2027-01-31 00:00:00', freq='M'), Timestamp('2027-02-28 00:00:00', freq='M'), Timestamp('2027-03-31 00:00:00', freq='M'), Timestamp('2027-04-30 00:00:00', freq='M'), Timestamp('2027-05-31 00:00:00', freq='M'), Timestamp('2027-06-30 00:00:00', freq='M'), Timestamp('2027-07-31 00:00:00', freq='M'), Timestamp('2027-08-31 00:00:00', freq='M'), Timestamp('2027-09-30 00:00:00', freq='M'), Timestamp('2027-10-31 00:00:00', freq='M'), Timestamp('2027-11-30 00:00:00', freq='M'), Timestamp('2027-12-31 00:00:00', freq='M'), Timestamp('2028-01-31 00:00:00', freq='M'), Timestamp('2028-02-29 00:00:00', freq='M'), Timestamp('2028-03-31 00:00:00', freq='M'), Timestamp('2028-04-30 00:00:00', freq='M'), Timestamp('2028-05-31 00:00:00', freq='M'), Timestamp('2028-06-30 00:00:00', freq='M'), Timestamp('2028-07-31 00:00:00', freq='M'), Timestamp('2028-08-31 00:00:00', freq='M'), Timestamp('2028-09-30 00:00:00', freq='M'), Timestamp('2028-10-31 00:00:00', freq='M'), Timestamp('2028-11-30 00:00:00', freq='M'), Timestamp('2028-12-31 00:00:00', freq='M'), Timestamp('2029-01-31 00:00:00', freq='M'), Timestamp('2029-02-28 00:00:00', freq='M'), Timestamp('2029-03-31 00:00:00', freq='M'), Timestamp('2029-04-30 00:00:00', freq='M'), Timestamp('2029-05-31 00:00:00', freq='M'), Timestamp('2029-06-30 00:00:00', freq='M'), Timestamp('2029-07-31 00:00:00', freq='M'), Timestamp('2029-08-31 00:00:00', freq='M'), Timestamp('2029-09-30 00:00:00', freq='M'), Timestamp('2029-10-31 00:00:00', freq='M'), Timestamp('2029-11-30 00:00:00', freq='M'), Timestamp('2029-12-31 00:00:00', freq='M'), Timestamp('2030-01-31 00:00:00', freq='M'), Timestamp('2030-02-28 00:00:00', freq='M'), Timestamp('2030-03-31 00:00:00', freq='M'), Timestamp('2030-04-30 00:00:00', freq='M')]\n"
          ]
        }
      ]
    },
    {
      "cell_type": "code",
      "source": [
        "prediction = model.predict(trainX[-n_days_for_prediction:]) "
      ],
      "metadata": {
        "colab": {
          "base_uri": "https://localhost:8080/"
        },
        "id": "omuhi-fFjuzK",
        "outputId": "5db8498c-7a37-4097-b138-681872307aba"
      },
      "execution_count": null,
      "outputs": [
        {
          "output_type": "stream",
          "name": "stdout",
          "text": [
            "9/9 [==============================] - 0s 4ms/step\n"
          ]
        }
      ]
    },
    {
      "cell_type": "code",
      "source": [
        "prediction_copies = np.repeat(prediction, df_for_training.shape[1], axis=-1)\n",
        "y_pred_future = scaler.inverse_transform(prediction_copies)[:,9]"
      ],
      "metadata": {
        "id": "A68cGGUlkLp7"
      },
      "execution_count": null,
      "outputs": []
    },
    {
      "cell_type": "code",
      "source": [
        "forecast_dates = []\n",
        "for time_i in predict_period_dates:\n",
        "    forecast_dates.append(time_i.date())\n",
        "    \n",
        "df_forecast = pd.DataFrame({'Date':np.array(forecast_dates), 'price':y_pred_future})\n",
        "df_forecast['Date']=pd.to_datetime(df_forecast['Date'])"
      ],
      "metadata": {
        "id": "RRg0e30rkPIK"
      },
      "execution_count": null,
      "outputs": []
    },
    {
      "cell_type": "code",
      "source": [
        "original = df[['Date', 'price']]\n",
        "original['Date']=pd.to_datetime(original['Date'])\n",
        "original\n"
      ],
      "metadata": {
        "colab": {
          "base_uri": "https://localhost:8080/",
          "height": 532
        },
        "id": "7PbdmSaPkUK7",
        "outputId": "b838553e-64bf-41d9-8e92-4d80e63fac35"
      },
      "execution_count": null,
      "outputs": [
        {
          "output_type": "stream",
          "name": "stderr",
          "text": [
            "<ipython-input-403-20f60c629b61>:2: SettingWithCopyWarning: \n",
            "A value is trying to be set on a copy of a slice from a DataFrame.\n",
            "Try using .loc[row_indexer,col_indexer] = value instead\n",
            "\n",
            "See the caveats in the documentation: https://pandas.pydata.org/pandas-docs/stable/user_guide/indexing.html#returning-a-view-versus-a-copy\n",
            "  original['Date']=pd.to_datetime(original['Date'])\n"
          ]
        },
        {
          "output_type": "execute_result",
          "data": {
            "text/plain": [
              "          Date       price\n",
              "0   2006-07-31  100.000000\n",
              "1   2006-08-31  101.924169\n",
              "2   2006-09-29  103.166191\n",
              "3   2006-10-31  104.478956\n",
              "4   2006-11-30  104.160907\n",
              "..         ...         ...\n",
              "295 2018-08-31   88.802113\n",
              "296 2018-09-28   88.018930\n",
              "297 2018-10-31   87.617812\n",
              "298 2018-11-30   88.135261\n",
              "299 2018-12-31   88.942826\n",
              "\n",
              "[300 rows x 2 columns]"
            ],
            "text/html": [
              "\n",
              "  <div id=\"df-9f35f141-f24a-4ae3-ad70-2bf81965597e\">\n",
              "    <div class=\"colab-df-container\">\n",
              "      <div>\n",
              "<style scoped>\n",
              "    .dataframe tbody tr th:only-of-type {\n",
              "        vertical-align: middle;\n",
              "    }\n",
              "\n",
              "    .dataframe tbody tr th {\n",
              "        vertical-align: top;\n",
              "    }\n",
              "\n",
              "    .dataframe thead th {\n",
              "        text-align: right;\n",
              "    }\n",
              "</style>\n",
              "<table border=\"1\" class=\"dataframe\">\n",
              "  <thead>\n",
              "    <tr style=\"text-align: right;\">\n",
              "      <th></th>\n",
              "      <th>Date</th>\n",
              "      <th>price</th>\n",
              "    </tr>\n",
              "  </thead>\n",
              "  <tbody>\n",
              "    <tr>\n",
              "      <th>0</th>\n",
              "      <td>2006-07-31</td>\n",
              "      <td>100.000000</td>\n",
              "    </tr>\n",
              "    <tr>\n",
              "      <th>1</th>\n",
              "      <td>2006-08-31</td>\n",
              "      <td>101.924169</td>\n",
              "    </tr>\n",
              "    <tr>\n",
              "      <th>2</th>\n",
              "      <td>2006-09-29</td>\n",
              "      <td>103.166191</td>\n",
              "    </tr>\n",
              "    <tr>\n",
              "      <th>3</th>\n",
              "      <td>2006-10-31</td>\n",
              "      <td>104.478956</td>\n",
              "    </tr>\n",
              "    <tr>\n",
              "      <th>4</th>\n",
              "      <td>2006-11-30</td>\n",
              "      <td>104.160907</td>\n",
              "    </tr>\n",
              "    <tr>\n",
              "      <th>...</th>\n",
              "      <td>...</td>\n",
              "      <td>...</td>\n",
              "    </tr>\n",
              "    <tr>\n",
              "      <th>295</th>\n",
              "      <td>2018-08-31</td>\n",
              "      <td>88.802113</td>\n",
              "    </tr>\n",
              "    <tr>\n",
              "      <th>296</th>\n",
              "      <td>2018-09-28</td>\n",
              "      <td>88.018930</td>\n",
              "    </tr>\n",
              "    <tr>\n",
              "      <th>297</th>\n",
              "      <td>2018-10-31</td>\n",
              "      <td>87.617812</td>\n",
              "    </tr>\n",
              "    <tr>\n",
              "      <th>298</th>\n",
              "      <td>2018-11-30</td>\n",
              "      <td>88.135261</td>\n",
              "    </tr>\n",
              "    <tr>\n",
              "      <th>299</th>\n",
              "      <td>2018-12-31</td>\n",
              "      <td>88.942826</td>\n",
              "    </tr>\n",
              "  </tbody>\n",
              "</table>\n",
              "<p>300 rows × 2 columns</p>\n",
              "</div>\n",
              "      <button class=\"colab-df-convert\" onclick=\"convertToInteractive('df-9f35f141-f24a-4ae3-ad70-2bf81965597e')\"\n",
              "              title=\"Convert this dataframe to an interactive table.\"\n",
              "              style=\"display:none;\">\n",
              "        \n",
              "  <svg xmlns=\"http://www.w3.org/2000/svg\" height=\"24px\"viewBox=\"0 0 24 24\"\n",
              "       width=\"24px\">\n",
              "    <path d=\"M0 0h24v24H0V0z\" fill=\"none\"/>\n",
              "    <path d=\"M18.56 5.44l.94 2.06.94-2.06 2.06-.94-2.06-.94-.94-2.06-.94 2.06-2.06.94zm-11 1L8.5 8.5l.94-2.06 2.06-.94-2.06-.94L8.5 2.5l-.94 2.06-2.06.94zm10 10l.94 2.06.94-2.06 2.06-.94-2.06-.94-.94-2.06-.94 2.06-2.06.94z\"/><path d=\"M17.41 7.96l-1.37-1.37c-.4-.4-.92-.59-1.43-.59-.52 0-1.04.2-1.43.59L10.3 9.45l-7.72 7.72c-.78.78-.78 2.05 0 2.83L4 21.41c.39.39.9.59 1.41.59.51 0 1.02-.2 1.41-.59l7.78-7.78 2.81-2.81c.8-.78.8-2.07 0-2.86zM5.41 20L4 18.59l7.72-7.72 1.47 1.35L5.41 20z\"/>\n",
              "  </svg>\n",
              "      </button>\n",
              "      \n",
              "  <style>\n",
              "    .colab-df-container {\n",
              "      display:flex;\n",
              "      flex-wrap:wrap;\n",
              "      gap: 12px;\n",
              "    }\n",
              "\n",
              "    .colab-df-convert {\n",
              "      background-color: #E8F0FE;\n",
              "      border: none;\n",
              "      border-radius: 50%;\n",
              "      cursor: pointer;\n",
              "      display: none;\n",
              "      fill: #1967D2;\n",
              "      height: 32px;\n",
              "      padding: 0 0 0 0;\n",
              "      width: 32px;\n",
              "    }\n",
              "\n",
              "    .colab-df-convert:hover {\n",
              "      background-color: #E2EBFA;\n",
              "      box-shadow: 0px 1px 2px rgba(60, 64, 67, 0.3), 0px 1px 3px 1px rgba(60, 64, 67, 0.15);\n",
              "      fill: #174EA6;\n",
              "    }\n",
              "\n",
              "    [theme=dark] .colab-df-convert {\n",
              "      background-color: #3B4455;\n",
              "      fill: #D2E3FC;\n",
              "    }\n",
              "\n",
              "    [theme=dark] .colab-df-convert:hover {\n",
              "      background-color: #434B5C;\n",
              "      box-shadow: 0px 1px 3px 1px rgba(0, 0, 0, 0.15);\n",
              "      filter: drop-shadow(0px 1px 2px rgba(0, 0, 0, 0.3));\n",
              "      fill: #FFFFFF;\n",
              "    }\n",
              "  </style>\n",
              "\n",
              "      <script>\n",
              "        const buttonEl =\n",
              "          document.querySelector('#df-9f35f141-f24a-4ae3-ad70-2bf81965597e button.colab-df-convert');\n",
              "        buttonEl.style.display =\n",
              "          google.colab.kernel.accessAllowed ? 'block' : 'none';\n",
              "\n",
              "        async function convertToInteractive(key) {\n",
              "          const element = document.querySelector('#df-9f35f141-f24a-4ae3-ad70-2bf81965597e');\n",
              "          const dataTable =\n",
              "            await google.colab.kernel.invokeFunction('convertToInteractive',\n",
              "                                                     [key], {});\n",
              "          if (!dataTable) return;\n",
              "\n",
              "          const docLinkHtml = 'Like what you see? Visit the ' +\n",
              "            '<a target=\"_blank\" href=https://colab.research.google.com/notebooks/data_table.ipynb>data table notebook</a>'\n",
              "            + ' to learn more about interactive tables.';\n",
              "          element.innerHTML = '';\n",
              "          dataTable['output_type'] = 'display_data';\n",
              "          await google.colab.output.renderOutput(dataTable, element);\n",
              "          const docLink = document.createElement('div');\n",
              "          docLink.innerHTML = docLinkHtml;\n",
              "          element.appendChild(docLink);\n",
              "        }\n",
              "      </script>\n",
              "    </div>\n",
              "  </div>\n",
              "  "
            ]
          },
          "metadata": {},
          "execution_count": 403
        }
      ]
    },
    {
      "cell_type": "code",
      "source": [
        "df_forecast"
      ],
      "metadata": {
        "colab": {
          "base_uri": "https://localhost:8080/",
          "height": 423
        },
        "id": "uQKHlrzh2Jl6",
        "outputId": "dcecf74e-2c49-4694-d085-b42ee898aaf0"
      },
      "execution_count": null,
      "outputs": [
        {
          "output_type": "execute_result",
          "data": {
            "text/plain": [
              "          Date       price\n",
              "0   2006-07-31  108.202576\n",
              "1   2006-08-31  107.596619\n",
              "2   2006-09-30  107.915611\n",
              "3   2006-10-31  107.498245\n",
              "4   2006-11-30  107.510818\n",
              "..         ...         ...\n",
              "281 2029-12-31   94.129967\n",
              "282 2030-01-31   94.196510\n",
              "283 2030-02-28   94.928963\n",
              "284 2030-03-31   95.493217\n",
              "285 2030-04-30   96.314484\n",
              "\n",
              "[286 rows x 2 columns]"
            ],
            "text/html": [
              "\n",
              "  <div id=\"df-4a60821c-ecf2-4278-bf60-1b9b6a51a5c6\">\n",
              "    <div class=\"colab-df-container\">\n",
              "      <div>\n",
              "<style scoped>\n",
              "    .dataframe tbody tr th:only-of-type {\n",
              "        vertical-align: middle;\n",
              "    }\n",
              "\n",
              "    .dataframe tbody tr th {\n",
              "        vertical-align: top;\n",
              "    }\n",
              "\n",
              "    .dataframe thead th {\n",
              "        text-align: right;\n",
              "    }\n",
              "</style>\n",
              "<table border=\"1\" class=\"dataframe\">\n",
              "  <thead>\n",
              "    <tr style=\"text-align: right;\">\n",
              "      <th></th>\n",
              "      <th>Date</th>\n",
              "      <th>price</th>\n",
              "    </tr>\n",
              "  </thead>\n",
              "  <tbody>\n",
              "    <tr>\n",
              "      <th>0</th>\n",
              "      <td>2006-07-31</td>\n",
              "      <td>108.202576</td>\n",
              "    </tr>\n",
              "    <tr>\n",
              "      <th>1</th>\n",
              "      <td>2006-08-31</td>\n",
              "      <td>107.596619</td>\n",
              "    </tr>\n",
              "    <tr>\n",
              "      <th>2</th>\n",
              "      <td>2006-09-30</td>\n",
              "      <td>107.915611</td>\n",
              "    </tr>\n",
              "    <tr>\n",
              "      <th>3</th>\n",
              "      <td>2006-10-31</td>\n",
              "      <td>107.498245</td>\n",
              "    </tr>\n",
              "    <tr>\n",
              "      <th>4</th>\n",
              "      <td>2006-11-30</td>\n",
              "      <td>107.510818</td>\n",
              "    </tr>\n",
              "    <tr>\n",
              "      <th>...</th>\n",
              "      <td>...</td>\n",
              "      <td>...</td>\n",
              "    </tr>\n",
              "    <tr>\n",
              "      <th>281</th>\n",
              "      <td>2029-12-31</td>\n",
              "      <td>94.129967</td>\n",
              "    </tr>\n",
              "    <tr>\n",
              "      <th>282</th>\n",
              "      <td>2030-01-31</td>\n",
              "      <td>94.196510</td>\n",
              "    </tr>\n",
              "    <tr>\n",
              "      <th>283</th>\n",
              "      <td>2030-02-28</td>\n",
              "      <td>94.928963</td>\n",
              "    </tr>\n",
              "    <tr>\n",
              "      <th>284</th>\n",
              "      <td>2030-03-31</td>\n",
              "      <td>95.493217</td>\n",
              "    </tr>\n",
              "    <tr>\n",
              "      <th>285</th>\n",
              "      <td>2030-04-30</td>\n",
              "      <td>96.314484</td>\n",
              "    </tr>\n",
              "  </tbody>\n",
              "</table>\n",
              "<p>286 rows × 2 columns</p>\n",
              "</div>\n",
              "      <button class=\"colab-df-convert\" onclick=\"convertToInteractive('df-4a60821c-ecf2-4278-bf60-1b9b6a51a5c6')\"\n",
              "              title=\"Convert this dataframe to an interactive table.\"\n",
              "              style=\"display:none;\">\n",
              "        \n",
              "  <svg xmlns=\"http://www.w3.org/2000/svg\" height=\"24px\"viewBox=\"0 0 24 24\"\n",
              "       width=\"24px\">\n",
              "    <path d=\"M0 0h24v24H0V0z\" fill=\"none\"/>\n",
              "    <path d=\"M18.56 5.44l.94 2.06.94-2.06 2.06-.94-2.06-.94-.94-2.06-.94 2.06-2.06.94zm-11 1L8.5 8.5l.94-2.06 2.06-.94-2.06-.94L8.5 2.5l-.94 2.06-2.06.94zm10 10l.94 2.06.94-2.06 2.06-.94-2.06-.94-.94-2.06-.94 2.06-2.06.94z\"/><path d=\"M17.41 7.96l-1.37-1.37c-.4-.4-.92-.59-1.43-.59-.52 0-1.04.2-1.43.59L10.3 9.45l-7.72 7.72c-.78.78-.78 2.05 0 2.83L4 21.41c.39.39.9.59 1.41.59.51 0 1.02-.2 1.41-.59l7.78-7.78 2.81-2.81c.8-.78.8-2.07 0-2.86zM5.41 20L4 18.59l7.72-7.72 1.47 1.35L5.41 20z\"/>\n",
              "  </svg>\n",
              "      </button>\n",
              "      \n",
              "  <style>\n",
              "    .colab-df-container {\n",
              "      display:flex;\n",
              "      flex-wrap:wrap;\n",
              "      gap: 12px;\n",
              "    }\n",
              "\n",
              "    .colab-df-convert {\n",
              "      background-color: #E8F0FE;\n",
              "      border: none;\n",
              "      border-radius: 50%;\n",
              "      cursor: pointer;\n",
              "      display: none;\n",
              "      fill: #1967D2;\n",
              "      height: 32px;\n",
              "      padding: 0 0 0 0;\n",
              "      width: 32px;\n",
              "    }\n",
              "\n",
              "    .colab-df-convert:hover {\n",
              "      background-color: #E2EBFA;\n",
              "      box-shadow: 0px 1px 2px rgba(60, 64, 67, 0.3), 0px 1px 3px 1px rgba(60, 64, 67, 0.15);\n",
              "      fill: #174EA6;\n",
              "    }\n",
              "\n",
              "    [theme=dark] .colab-df-convert {\n",
              "      background-color: #3B4455;\n",
              "      fill: #D2E3FC;\n",
              "    }\n",
              "\n",
              "    [theme=dark] .colab-df-convert:hover {\n",
              "      background-color: #434B5C;\n",
              "      box-shadow: 0px 1px 3px 1px rgba(0, 0, 0, 0.15);\n",
              "      filter: drop-shadow(0px 1px 2px rgba(0, 0, 0, 0.3));\n",
              "      fill: #FFFFFF;\n",
              "    }\n",
              "  </style>\n",
              "\n",
              "      <script>\n",
              "        const buttonEl =\n",
              "          document.querySelector('#df-4a60821c-ecf2-4278-bf60-1b9b6a51a5c6 button.colab-df-convert');\n",
              "        buttonEl.style.display =\n",
              "          google.colab.kernel.accessAllowed ? 'block' : 'none';\n",
              "\n",
              "        async function convertToInteractive(key) {\n",
              "          const element = document.querySelector('#df-4a60821c-ecf2-4278-bf60-1b9b6a51a5c6');\n",
              "          const dataTable =\n",
              "            await google.colab.kernel.invokeFunction('convertToInteractive',\n",
              "                                                     [key], {});\n",
              "          if (!dataTable) return;\n",
              "\n",
              "          const docLinkHtml = 'Like what you see? Visit the ' +\n",
              "            '<a target=\"_blank\" href=https://colab.research.google.com/notebooks/data_table.ipynb>data table notebook</a>'\n",
              "            + ' to learn more about interactive tables.';\n",
              "          element.innerHTML = '';\n",
              "          dataTable['output_type'] = 'display_data';\n",
              "          await google.colab.output.renderOutput(dataTable, element);\n",
              "          const docLink = document.createElement('div');\n",
              "          docLink.innerHTML = docLinkHtml;\n",
              "          element.appendChild(docLink);\n",
              "        }\n",
              "      </script>\n",
              "    </div>\n",
              "  </div>\n",
              "  "
            ]
          },
          "metadata": {},
          "execution_count": 404
        }
      ]
    },
    {
      "cell_type": "code",
      "source": [
        "original.plot(x='Date',y='price')\n",
        "original= pd.concat([original,df_forecast],axis=0)\n",
        "original.plot(x='Date',y='price')\n",
        "#f_forecast.plot(x='Date',y='price')\n"
      ],
      "metadata": {
        "colab": {
          "base_uri": "https://localhost:8080/",
          "height": 845
        },
        "id": "RLBZ0Dddla_5",
        "outputId": "ff346237-6217-47f9-b88d-e92f7e29daa8"
      },
      "execution_count": null,
      "outputs": [
        {
          "output_type": "execute_result",
          "data": {
            "text/plain": [
              "<Axes: xlabel='Date'>"
            ]
          },
          "metadata": {},
          "execution_count": 405
        },
        {
          "output_type": "display_data",
          "data": {
            "text/plain": [
              "<Figure size 640x480 with 1 Axes>"
            ],
            "image/png": "[encoded data removed]"
          },
          "metadata": {}
        },
        {
          "output_type": "display_data",
          "data": {
            "text/plain": [
              "<Figure size 640x480 with 1 Axes>"
            ],
            "image/png": "[encoded data removed]"
          },
          "metadata": {}
        }
      ]
    },
    {
      "cell_type": "code",
      "source": [
        "Diff = df['price']-df_forecast['price']\n",
        "Diff"
      ],
      "metadata": {
        "colab": {
          "base_uri": "https://localhost:8080/"
        },
        "id": "492_SU2IMbDa",
        "outputId": "889e1250-668e-4af0-c236-1e498088afca"
      },
      "execution_count": null,
      "outputs": [
        {
          "output_type": "execute_result",
          "data": {
            "text/plain": [
              "0     -8.202576\n",
              "1     -5.672449\n",
              "2     -4.749420\n",
              "3     -3.019289\n",
              "4     -3.349911\n",
              "         ...   \n",
              "295         NaN\n",
              "296         NaN\n",
              "297         NaN\n",
              "298         NaN\n",
              "299         NaN\n",
              "Name: price, Length: 300, dtype: float64"
            ]
          },
          "metadata": {},
          "execution_count": 406
        }
      ]
    },
    {
      "cell_type": "code",
      "source": [
        "RMSE = math.sqrt((Diff*Diff).sum())/len(Diff)\n",
        "print(RMSE)"
      ],
      "metadata": {
        "colab": {
          "base_uri": "https://localhost:8080/"
        },
        "id": "13jymlJbMa7Q",
        "outputId": "d0bdf6ec-aafe-4551-cca0-bc852e53ace3"
      },
      "execution_count": null,
      "outputs": [
        {
          "output_type": "stream",
          "name": "stdout",
          "text": [
            "0.2752434640038151\n"
          ]
        }
      ]
    },
    {
      "cell_type": "code",
      "source": [
        "# RMSE = np.sqrt(np.mean(np.square(((original['price''] - df_forecast['price]) / original['price'],axis=0))\n",
        "RMSE_PER = np.sqrt(np.mean(np.square(((df['price'] - df_forecast['price']) / df['price'])), axis=0))\n",
        "print(\"Efficiency = \"+str(100-RMSE_PER*100)+\" %\")\n",
        "# print(\"efficiency= \" 100 - RMSE_PER)"
      ],
      "metadata": {
        "colab": {
          "base_uri": "https://localhost:8080/"
        },
        "id": "OzoB-aVlMa35",
        "outputId": "ca292f37-3e05-4381-a7e4-aa415648a2cd"
      },
      "execution_count": null,
      "outputs": [
        {
          "output_type": "stream",
          "name": "stdout",
          "text": [
            "Efficiency = 95.76148880301972 %\n"
          ]
        }
      ]
    },
    {
      "cell_type": "code",
      "source": [],
      "metadata": {
        "id": "ssmOhWwoMa1D"
      },
      "execution_count": null,
      "outputs": []
    },
    {
      "cell_type": "code",
      "source": [],
      "metadata": {
        "id": "XD_oUbYbMasW"
      },
      "execution_count": null,
      "outputs": []
    }
  ]
}
